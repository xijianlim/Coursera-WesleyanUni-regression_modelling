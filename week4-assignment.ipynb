{
 "cells": [
  {
   "cell_type": "markdown",
   "metadata": {},
   "source": [
    "# Week4 Assignment\n",
    "\n",
    "By Xijian Lim\n",
    "\n",
    "- Using Categorical Variables and Logistic Regression to look at relationship between major depression,dysthymia, panic disorder with symptoms of alchohol dependence.\n",
    "\n",
    "Note: From the Nesarc dataset, I'll be composing a categorical variable called 'ALCHOHOLDEP' where users have recorded at least one symptom of alchohol dependence symptoms in the last 12 months.\n",
    "\n",
    " \n",
    " \n",
    " \n",
    " "
   ]
  },
  {
   "cell_type": "code",
   "execution_count": 1,
   "metadata": {},
   "outputs": [
    {
     "name": "stderr",
     "output_type": "stream",
     "text": [
      "/Users/xijianlim/Library/Enthought/Canopy_64bit/User/lib/python2.7/site-packages/statsmodels/compat/pandas.py:56: FutureWarning: The pandas.core.datetools module is deprecated and will be removed in a future version. Please use the pandas.tseries module instead.\n",
      "  from pandas.core import datetools\n"
     ]
    }
   ],
   "source": [
    "#!pip install statsmodels --upgrade\n",
    "import numpy as np\n",
    "import numpy as numpy\n",
    "import pandas as pandas\n",
    "import pandas as pd\n",
    "import statsmodels.api\n",
    "import statsmodels.formula.api as smf\n",
    "\n",
    "\n",
    "# bug fix for display formats to avoid run time errors\n",
    "pandas.set_option('display.float_format', lambda x:'%.2f'%x)\n",
    "\n",
    "#call in data set - note: see week3-creatingNDSymptomsFile.ipynb on how to create NDSymtoms variable\n",
    "data = pandas.read_csv('~/Desktop/Coursera - data science/regression modelling/week3/nesarc_pds_with_NDSymptoms.csv', low_memory=False)\n",
    "\n",
    "\n"
   ]
  },
  {
   "cell_type": "markdown",
   "metadata": {},
   "source": [
    "DATA MANAGEMENT\n",
    "\n",
    "- converting data to numerical formats.\n",
    "\n",
    "Note: I have also specifically chosen alchohol dependent symptoms reported by subjects in the NESARC data set. For the sake of simplicity I have chosen to only focus on people who reported these dependent symptoms in the last 12 months"
   ]
  },
  {
   "cell_type": "code",
   "execution_count": 3,
   "metadata": {},
   "outputs": [],
   "source": [
    "data['MAJORDEPLIFE'] = pandas.to_numeric(data['MAJORDEPLIFE'], errors='coerce')\n",
    "data['S3AQ3C1']=pandas.to_numeric(data['S3AQ3C1'], errors='coerce')\n",
    "data['NDSymptoms'] = pandas.to_numeric(data['NDSymptoms'], errors='coerce')\n",
    "data['AGE']=pandas.to_numeric(data['AGE'], errors='coerce')\n",
    "data['DYSLIFE']=pandas.to_numeric(data['DYSLIFE'], errors='coerce')\n",
    "data['PANLIFE']=pd.to_numeric(data['PANLIFE'], errors='coerce')\n",
    "data['SEX']=pandas.to_numeric(data['SEX'], errors='coerce')\n",
    "\n",
    "\n",
    "##### section covering alchohol dependent symptoms############\n",
    "#######################################################\n",
    "\n",
    "#EVER HAD TROUBLE FALLING/STAYING ASLEEP WHEN EFFECTS OF ALCOHOL WERE WEARING OFF\n",
    "data['S2BQ1A9A']=pd.to_numeric(data['S2BQ1A9A'], errors='coerce') \n",
    "#HAPPEN IN THE LAST 12 MONTHS\n",
    "data['S2BQ1B9A']=pd.to_numeric(data['S2BQ1B9A'], errors='coerce')\n",
    "\n",
    "\n",
    "#EVER SHAKE WHEN EFFECTS OF ALCOHOL WERE WEARING OFF\n",
    "data['S2BQ1A9B']=pd.to_numeric(data['S2BQ1A9B'], errors='coerce')\n",
    "#HAPPEN IN THE LAST 12 MONTHS\n",
    "data['S2BQ1B9B']=pd.to_numeric(data['S2BQ1B9B'], errors='coerce') \n",
    "\n",
    "#EVER FEEL ANXIOUS OR NERVOUS WHEN EFFECTS OF ALCOHOL WERE WEARING OFF\n",
    "data['S2BQ1A9C']=pd.to_numeric(data['S2BQ1A9C'], errors='coerce') \n",
    "#HAPPEN IN THE LAST 12 MONTHS\n",
    "data['S2BQ1B9C']=pd.to_numeric(data['S2BQ1B9C'], errors='coerce') \n",
    "\n",
    "\n",
    "#EVER HAVE NAUSEA WHEN EFFECTS OF ALCOHOL WERE WEARING OFF\n",
    "data['S2BQ1A9D']=pd.to_numeric(data['S2BQ1A9D'], errors='coerce')\n",
    "#HAPPEN IN THE LAST 12 MONTHS\n",
    "data['S2BQ1B9D']=pd.to_numeric(data['S2BQ1B9D'], errors='coerce') \n",
    "\n",
    "\n",
    "#EVER FEEL UNUSUALLY RESTLESS WHEN EFFECTS OF ALCOHOL WERE WEARING OFF\n",
    "data['S2BQ1A9E']=pd.to_numeric(data['S2BQ1A9E'], errors='coerce')\n",
    "#HAPPEN IN THE LAST 12 MONTHS\n",
    "data['S2BQ1B9E']=pd.to_numeric(data['S2BQ1B9E'], errors='coerce') \n",
    "\n",
    "#EVER SWEAT OR HEART BEAT FAST WHEN EFFECTS OF ALCOHOL WERE WEARING OFF\n",
    "data['S2BQ1A9F']=pd.to_numeric(data['S2BQ1A9F'], errors='coerce')\n",
    "#HAPPEN IN THE LAST 12 MONTHS\n",
    "data['S2BQ1B9F']=pd.to_numeric(data['S2BQ1B9F'], errors='coerce') \n",
    "\n",
    "#EVER SEE, FEEL, HEAR THINGS WHEN EFFECTS OF ALCOHOL WERE WEARING OFF\n",
    "data['S2BQ1A9G']=pd.to_numeric(data['S2BQ1A9G'], errors='coerce')\n",
    "#HAPPEN IN THE LAST 12 MONTHS\n",
    "data['S2BQ1B9G']=pd.to_numeric(data['S2BQ1B9G'], errors='coerce') \n",
    "\n",
    "#EVER HAVE FITS OR SEIZURES WHEN EFFECTS OF ALCOHOL WERE WEARING OFF\n",
    "data['S2BQ1A9H']=pd.to_numeric(data['S2BQ1A9H'], errors='coerce')\n",
    "#HAPPEN IN THE LAST 12 MONTHS\n",
    "data['S2BQ1B9H']=pd.to_numeric(data['S2BQ1B9H'], errors='coerce') \n",
    "\n",
    "\n",
    "#EVER HAVE VERY BAD HEADACHES WHEN EFFECTS OF ALCOHOL WERE WEARING OFF\n",
    "data['S2BQ1A9I']=pd.to_numeric(data['S2BQ1A9I'], errors='coerce')\n",
    "#HAPPEN IN THE LAST 12 MONTHS\n",
    "data['S2BQ1B9I']=pd.to_numeric(data['S2BQ1B9I'], errors='coerce') \n",
    "\n"
   ]
  },
  {
   "cell_type": "code",
   "execution_count": 5,
   "metadata": {},
   "outputs": [],
   "source": [
    "#creating the alchohol dep category\n",
    "\n",
    "def Alcdep (x1):\n",
    "    if ((x1['S2BQ1A9A']==1 and x1['S2BQ1B9A']==1) or (x1['S2BQ1A9B']==1 and x1['S2BQ1B9A']==1) or \n",
    "    (x1['S2BQ1A9C']==1 and x1['S2BQ1B9C']==1) or (x1['S2BQ1A9D']==1 and x1['S2BQ1B9D']==1) or \n",
    "    (x1['S2BQ1A9E']==1 and x1['S2BQ1B9E']==1) or (x1['S2BQ1A9F']==1 and x1['S2BQ1B9F']==1) or \n",
    "    (x1['S2BQ1A9G']==1 and x1['S2BQ1B9G']==1) or (x1['S2BQ1A9H']==1 and x1['S2BQ1B9H']==1) or \n",
    "    (x1['S2BQ1A9I']==1 and x1['S2BQ1B9I']==1)):\n",
    "        return 1\n",
    "    else:\n",
    "        return 0\n",
    "        \n",
    "data['ALCHOHOLDEP'] = data.apply (lambda x1: Alcdep (x1), axis=1)"
   ]
  },
  {
   "cell_type": "code",
   "execution_count": 6,
   "metadata": {},
   "outputs": [
    {
     "data": {
      "text/plain": [
       "0    38642\n",
       "1     4451\n",
       "Name: ALCHOHOLDEP, dtype: int64"
      ]
     },
     "execution_count": 6,
     "metadata": {},
     "output_type": "execute_result"
    }
   ],
   "source": [
    "#looking at the counts for alchoholdep:\n",
    "\n",
    "data['ALCHOHOLDEP'].value_counts()"
   ]
  },
  {
   "cell_type": "markdown",
   "metadata": {},
   "source": [
    "# Testing Hypothesis One\n",
    "\n",
    "- Looking at the relationship between Major Depression and alchohol dependence symptoms"
   ]
  },
  {
   "cell_type": "code",
   "execution_count": 9,
   "metadata": {},
   "outputs": [
    {
     "name": "stdout",
     "output_type": "stream",
     "text": [
      "Optimization terminated successfully.\n",
      "         Current function value: 0.327644\n",
      "         Iterations 6\n",
      "                           Logit Regression Results                           \n",
      "==============================================================================\n",
      "Dep. Variable:            ALCHOHOLDEP   No. Observations:                43093\n",
      "Model:                          Logit   Df Residuals:                    43091\n",
      "Method:                           MLE   Df Model:                            1\n",
      "Date:                Sat, 04 Nov 2017   Pseudo R-squ.:                 0.01386\n",
      "Time:                        21:46:36   Log-Likelihood:                -14119.\n",
      "converged:                       True   LL-Null:                       -14318.\n",
      "                                        LLR p-value:                 2.712e-88\n",
      "================================================================================\n",
      "                   coef    std err          z      P>|z|      [0.025      0.975]\n",
      "--------------------------------------------------------------------------------\n",
      "Intercept       -2.3296      0.019   -124.360      0.000      -2.366      -2.293\n",
      "MAJORDEPLIFE     0.7362      0.035     20.742      0.000       0.667       0.806\n",
      "================================================================================\n",
      "Odds Ratios\n",
      "              Lower CI  Upper CI   OR\n",
      "Intercept         0.09      0.10 0.10\n",
      "MAJORDEPLIFE      1.95      2.24 2.09\n"
     ]
    }
   ],
   "source": [
    "# logistic regression one\n",
    "lreg1 = smf.logit(formula = 'ALCHOHOLDEP ~ MAJORDEPLIFE', data = data).fit()\n",
    "print (lreg1.summary())\n",
    "\n",
    "# odd ratios with 95% confidence intervals\n",
    "print (\"Odds Ratios\")\n",
    "params = lreg1.params\n",
    "conf = lreg1.conf_int()\n",
    "conf['OR'] = params\n",
    "conf.columns = ['Lower CI', 'Upper CI', 'OR']\n",
    "print (numpy.exp(conf))"
   ]
  },
  {
   "cell_type": "markdown",
   "metadata": {},
   "source": [
    "We can see that major depression has a statistically significant relationship with alchohol dependence symptoms (p<0.001)\n",
    "\n",
    "Looking at the Odd Ratio from our model, we can see that subjects with major life depresson are 2.09 times more likely to have a alchohol dependence symptom than those without major life depression.\n",
    "\n",
    "We can say from the model with a 95% confidence interval that the general population with major life depression would have a range between 1.95 to 2.24 more times the likelihood of having alchohol dependence symptoms than subjects without major life depression (p<0.001; 95% CI: 1.95 - 2.24)"
   ]
  },
  {
   "cell_type": "markdown",
   "metadata": {},
   "source": [
    "# Testing Hypothesis Two\n",
    "\n",
    "- Looking at the relationship between Panic Disorders and alchohol dependence symptoms"
   ]
  },
  {
   "cell_type": "code",
   "execution_count": 10,
   "metadata": {},
   "outputs": [
    {
     "name": "stdout",
     "output_type": "stream",
     "text": [
      "Optimization terminated successfully.\n",
      "         Current function value: 0.331416\n",
      "         Iterations 6\n",
      "                           Logit Regression Results                           \n",
      "==============================================================================\n",
      "Dep. Variable:            ALCHOHOLDEP   No. Observations:                43093\n",
      "Model:                          Logit   Df Residuals:                    43091\n",
      "Method:                           MLE   Df Model:                            1\n",
      "Date:                Sat, 04 Nov 2017   Pseudo R-squ.:                0.002507\n",
      "Time:                        21:48:16   Log-Likelihood:                -14282.\n",
      "converged:                       True   LL-Null:                       -14318.\n",
      "                                        LLR p-value:                 2.406e-17\n",
      "==============================================================================\n",
      "                 coef    std err          z      P>|z|      [0.025      0.975]\n",
      "------------------------------------------------------------------------------\n",
      "Intercept     -2.1917      0.016   -133.906      0.000      -2.224      -2.160\n",
      "PANLIFE        0.5862      0.065      8.985      0.000       0.458       0.714\n",
      "==============================================================================\n",
      "Odds Ratios\n",
      "           Lower CI  Upper CI   OR\n",
      "Intercept      0.11      0.12 0.11\n",
      "PANLIFE        1.58      2.04 1.80\n"
     ]
    }
   ],
   "source": [
    "# logistic regression two\n",
    "lreg2 = smf.logit(formula = 'ALCHOHOLDEP ~ PANLIFE', data = data).fit()\n",
    "print (lreg2.summary())\n",
    "\n",
    "# odd ratios with 95% confidence intervals\n",
    "print (\"Odds Ratios\")\n",
    "params = lreg2.params\n",
    "conf = lreg2.conf_int()\n",
    "conf['OR'] = params\n",
    "conf.columns = ['Lower CI', 'Upper CI', 'OR']\n",
    "print (numpy.exp(conf))"
   ]
  },
  {
   "cell_type": "markdown",
   "metadata": {},
   "source": [
    "Just like major depression, panic disorders have a statistically significant relationship with alchohol dependence symptoms (p<0.001)\n",
    "\n",
    "Looking at the Odd Ratio from our model, we can see that subjects with panic disorders are 1.8 times more likely to have a alchohol dependence symptom than those without major life depression.\n",
    "\n",
    "We can say from the model with a 95% confidence interval that the general population with panic disorders  would have a range between 1.58 to 2.04 more times the likelihood of having alchohol dependence symptoms than subjects without these disorders. (p<0.001; 95% CI: 1.58 - 2.04)"
   ]
  },
  {
   "cell_type": "markdown",
   "metadata": {},
   "source": [
    "# Testing Hypothesis Three\n",
    "\n",
    "- Looking at the relationship between Dysthymia and alchohol dependence symptoms"
   ]
  },
  {
   "cell_type": "code",
   "execution_count": 17,
   "metadata": {},
   "outputs": [
    {
     "name": "stdout",
     "output_type": "stream",
     "text": [
      "Optimization terminated successfully.\n",
      "         Current function value: 0.331471\n",
      "         Iterations 6\n",
      "                           Logit Regression Results                           \n",
      "==============================================================================\n",
      "Dep. Variable:            ALCHOHOLDEP   No. Observations:                43093\n",
      "Model:                          Logit   Df Residuals:                    43091\n",
      "Method:                           MLE   Df Model:                            1\n",
      "Date:                Sat, 04 Nov 2017   Pseudo R-squ.:                0.002339\n",
      "Time:                        22:21:01   Log-Likelihood:                -14284.\n",
      "converged:                       True   LL-Null:                       -14318.\n",
      "                                        LLR p-value:                 2.755e-16\n",
      "==============================================================================\n",
      "                 coef    std err          z      P>|z|      [0.025      0.975]\n",
      "------------------------------------------------------------------------------\n",
      "Intercept     -2.1935      0.016   -133.287      0.000      -2.226      -2.161\n",
      "DYSLIFE        0.5243      0.061      8.624      0.000       0.405       0.643\n",
      "==============================================================================\n",
      "Odds Ratios\n",
      "           Lower CI  Upper CI   OR\n",
      "Intercept      0.11      0.12 0.11\n",
      "DYSLIFE        1.50      1.90 1.69\n"
     ]
    }
   ],
   "source": [
    "# logistic regression three\n",
    "lreg3 = smf.logit(formula = 'ALCHOHOLDEP ~ DYSLIFE', data = data).fit()\n",
    "print (lreg3.summary())\n",
    "\n",
    "# odd ratios with 95% confidence intervals\n",
    "print (\"Odds Ratios\")\n",
    "params = lreg3.params\n",
    "conf = lreg3.conf_int()\n",
    "conf['OR'] = params\n",
    "conf.columns = ['Lower CI', 'Upper CI', 'OR']\n",
    "print (numpy.exp(conf))"
   ]
  },
  {
   "cell_type": "markdown",
   "metadata": {},
   "source": [
    "Just like major depression, subjects with dysthymia have a statistically significant relationship with alchohol dependence symptoms (p<0.001)\n",
    "\n",
    "Looking at the Odd Ratio from our model, we can see that subjects with dysthymia are 1.69 times more likely to have a alchohol dependence symptom than those without major life depression.\n",
    "\n",
    "We can say from the model with a 95% confidence interval that the general population with dysthymia would have a range between 1.5 to 1.9 more times the likelihood of having alchohol dependence symptoms than subjects without dysthymia (p<0.001; 95% CI: 1.5 - 1.9)"
   ]
  },
  {
   "cell_type": "markdown",
   "metadata": {},
   "source": [
    "# Testing Hypothesis Four\n",
    "\n",
    "Here we'll look at any potential confounding effects when we adjust our models to look at alchohol dependence symptoms, major depression, dysthymia and panic disorders"
   ]
  },
  {
   "cell_type": "code",
   "execution_count": 16,
   "metadata": {},
   "outputs": [
    {
     "name": "stdout",
     "output_type": "stream",
     "text": [
      "Optimization terminated successfully.\n",
      "         Current function value: 0.327433\n",
      "         Iterations 6\n",
      "                           Logit Regression Results                           \n",
      "==============================================================================\n",
      "Dep. Variable:            ALCHOHOLDEP   No. Observations:                43093\n",
      "Model:                          Logit   Df Residuals:                    43089\n",
      "Method:                           MLE   Df Model:                            3\n",
      "Date:                Sat, 04 Nov 2017   Pseudo R-squ.:                 0.01449\n",
      "Time:                        21:57:44   Log-Likelihood:                -14110.\n",
      "converged:                       True   LL-Null:                       -14318.\n",
      "                                        LLR p-value:                 1.247e-89\n",
      "================================================================================\n",
      "                   coef    std err          z      P>|z|      [0.025      0.975]\n",
      "--------------------------------------------------------------------------------\n",
      "Intercept       -2.3371      0.019   -124.063      0.000      -2.374      -2.300\n",
      "MAJORDEPLIFE     0.7006      0.039     17.866      0.000       0.624       0.777\n",
      "DYSLIFE          0.0063      0.066      0.095      0.925      -0.124       0.137\n",
      "PANLIFE          0.2950      0.068      4.355      0.000       0.162       0.428\n",
      "================================================================================\n",
      "Odds Ratios\n",
      "              Lower CI  Upper CI   OR\n",
      "Intercept         0.09      0.10 0.10\n",
      "MAJORDEPLIFE      1.87      2.18 2.01\n",
      "DYSLIFE           0.88      1.15 1.01\n",
      "PANLIFE           1.18      1.53 1.34\n"
     ]
    }
   ],
   "source": [
    "# logistic regression three\n",
    "lreg4 = smf.logit(formula = 'ALCHOHOLDEP ~ MAJORDEPLIFE + DYSLIFE + PANLIFE', data = data).fit()\n",
    "print (lreg4.summary())\n",
    "\n",
    "# odd ratios with 95% confidence intervals\n",
    "print (\"Odds Ratios\")\n",
    "params = lreg4.params\n",
    "conf = lreg4.conf_int()\n",
    "conf['OR'] = params\n",
    "conf.columns = ['Lower CI', 'Upper CI', 'OR']\n",
    "print (numpy.exp(conf))"
   ]
  },
  {
   "cell_type": "markdown",
   "metadata": {},
   "source": [
    "This model produces very interesting where we can clearly see Major Depression and Panic Disorders confounds the relationship between Dysthymia and Alchohol Dependence symptoms - That is: after controlling for the major depression and panic disorders, subjects with Dysthymia show a non statistically significant relationship with alchohol dependence symptoms (p>|z| = 0.925; p>0.05)\n",
    "\n",
    "\n",
    "\n",
    "Our interpretation of the model summary would be:\n",
    "\n",
    "1)\n",
    "That subjects with major depression are 2 times more likely to have a alchohol dependence symptom than those without major life depression after controlling for dysthymia and panic disorders.\n",
    "\n",
    "We can say from the model with a 95% confidence interval that the general population with major depression would have a range between 1.87 to 2.18 more times the likelihood of having alchohol dependence symptoms than subjects without ((p<0.001; 95% CI: 1.87 - 2.18) major depression after controlling for dysthymia and panic disorders.\n",
    "\n",
    "2)\n",
    "That subjects with panic disorders are 1.34 times more likely to have a alchohol dependence symptom than those without major life depression after controlling for major depression and dysthymia.\n",
    "\n",
    "We can say from the model with a 95% confidence interval that the general population with major depression would have a range between 1.18 to 1.53 more times the likelihood of having alchohol dependence symptoms than subjects without panic disorders after controlling for major depression and dysthymia (p<0.001; 95% CI: 1.18 - 1.53)"
   ]
  },
  {
   "cell_type": "markdown",
   "metadata": {},
   "source": [
    "The question remains which item is the real confounder?\n",
    "\n",
    "Lets isolate Major depression and dysthymia to alchohol dependece symptoms\n"
   ]
  },
  {
   "cell_type": "code",
   "execution_count": 18,
   "metadata": {},
   "outputs": [
    {
     "name": "stdout",
     "output_type": "stream",
     "text": [
      "Optimization terminated successfully.\n",
      "         Current function value: 0.327642\n",
      "         Iterations 6\n",
      "                           Logit Regression Results                           \n",
      "==============================================================================\n",
      "Dep. Variable:            ALCHOHOLDEP   No. Observations:                43093\n",
      "Model:                          Logit   Df Residuals:                    43090\n",
      "Method:                           MLE   Df Model:                            2\n",
      "Date:                Sat, 04 Nov 2017   Pseudo R-squ.:                 0.01386\n",
      "Time:                        22:23:46   Log-Likelihood:                -14119.\n",
      "converged:                       True   LL-Null:                       -14318.\n",
      "                                        LLR p-value:                 6.243e-87\n",
      "================================================================================\n",
      "                   coef    std err          z      P>|z|      [0.025      0.975]\n",
      "--------------------------------------------------------------------------------\n",
      "Intercept       -2.3299      0.019   -124.290      0.000      -2.367      -2.293\n",
      "MAJORDEPLIFE     0.7301      0.039     18.953      0.000       0.655       0.806\n",
      "DYSLIFE          0.0271      0.066      0.410      0.682      -0.103       0.157\n",
      "================================================================================\n",
      "Odds Ratios\n",
      "              Lower CI  Upper CI   OR\n",
      "Intercept         0.09      0.10 0.10\n",
      "MAJORDEPLIFE      1.92      2.24 2.08\n",
      "DYSLIFE           0.90      1.17 1.03\n"
     ]
    }
   ],
   "source": [
    "lreg5 = smf.logit(formula = 'ALCHOHOLDEP ~ MAJORDEPLIFE + DYSLIFE', data = data).fit()\n",
    "print (lreg5.summary())\n",
    "\n",
    "# odd ratios with 95% confidence intervals\n",
    "print (\"Odds Ratios\")\n",
    "params = lreg5.params\n",
    "conf = lreg5.conf_int()\n",
    "conf['OR'] = params\n",
    "conf.columns = ['Lower CI', 'Upper CI', 'OR']\n",
    "print (numpy.exp(conf))"
   ]
  },
  {
   "cell_type": "markdown",
   "metadata": {},
   "source": [
    "Here we see that major depression confounds the relationship between dysthymia and alchohol dependence symptoms (p>0.05) That is: after controling for the presence of major depression alone, the relationshion between Dysthymia and alchohol dependence symptoms is no longer statistically significant.\n",
    "\n",
    "\n",
    "Lets next look at whether panic disorders confounds dythymia as well:"
   ]
  },
  {
   "cell_type": "code",
   "execution_count": 19,
   "metadata": {},
   "outputs": [
    {
     "name": "stdout",
     "output_type": "stream",
     "text": [
      "Optimization terminated successfully.\n",
      "         Current function value: 0.330856\n",
      "         Iterations 6\n",
      "                           Logit Regression Results                           \n",
      "==============================================================================\n",
      "Dep. Variable:            ALCHOHOLDEP   No. Observations:                43093\n",
      "Model:                          Logit   Df Residuals:                    43090\n",
      "Method:                           MLE   Df Model:                            2\n",
      "Date:                Sat, 04 Nov 2017   Pseudo R-squ.:                0.004192\n",
      "Time:                        22:27:20   Log-Likelihood:                -14258.\n",
      "converged:                       True   LL-Null:                       -14318.\n",
      "                                        LLR p-value:                 8.552e-27\n",
      "==============================================================================\n",
      "                 coef    std err          z      P>|z|      [0.025      0.975]\n",
      "------------------------------------------------------------------------------\n",
      "Intercept     -2.2152      0.017   -131.801      0.000      -2.248      -2.182\n",
      "DYSLIFE        0.4491      0.062      7.251      0.000       0.328       0.571\n",
      "PANLIFE        0.5082      0.066      7.646      0.000       0.378       0.638\n",
      "==============================================================================\n",
      "Odds Ratios\n",
      "           Lower CI  Upper CI   OR\n",
      "Intercept      0.11      0.11 0.11\n",
      "DYSLIFE        1.39      1.77 1.57\n",
      "PANLIFE        1.46      1.89 1.66\n"
     ]
    }
   ],
   "source": [
    "lreg6 = smf.logit(formula = 'ALCHOHOLDEP ~ DYSLIFE + PANLIFE', data = data).fit()\n",
    "print (lreg6.summary())\n",
    "\n",
    "# odd ratios with 95% confidence intervals\n",
    "print (\"Odds Ratios\")\n",
    "params = lreg6.params\n",
    "conf = lreg6.conf_int()\n",
    "conf['OR'] = params\n",
    "conf.columns = ['Lower CI', 'Upper CI', 'OR']\n",
    "print (numpy.exp(conf))"
   ]
  },
  {
   "cell_type": "markdown",
   "metadata": {},
   "source": [
    "Here we can clearly see panic disorders NOT having a confounding effect with Dysthymia"
   ]
  },
  {
   "cell_type": "markdown",
   "metadata": {},
   "source": [
    "# Conclussion\n",
    "\n",
    "After testing the categorical explanatory variables in isolation; we found statistically significant relationships between subjects with panic disorders, major depression and dysthymia having a greater likelihood of having a symptom of alchohol dependece using our logistic regression model.\n",
    "\n",
    "After controlling for the presence in all three variables, we found that dysthymia's relationship was confounded. \n",
    "\n",
    "By additional running seperate models, we found that major depression was a confounder between dysthymia and symptoms of alchohol dependence -  but not subjects with panic disorders."
   ]
  },
  {
   "cell_type": "code",
   "execution_count": null,
   "metadata": {
    "collapsed": true
   },
   "outputs": [],
   "source": []
  }
 ],
 "metadata": {
  "kernelspec": {
   "display_name": "Python 3",
   "language": "python",
   "name": "python3"
  },
  "language_info": {
   "codemirror_mode": {
    "name": "ipython",
    "version": 2
   },
   "file_extension": ".py",
   "mimetype": "text/x-python",
   "name": "python",
   "nbconvert_exporter": "python",
   "pygments_lexer": "ipython2",
   "version": "2.7.10"
  }
 },
 "nbformat": 4,
 "nbformat_minor": 2
}
