{
 "cells": [
  {
   "cell_type": "markdown",
   "metadata": {},
   "source": [
    "# Week3 - Assignment - Multiple Regression\n",
    "\n",
    "By Xijian Lim\n",
    "\n",
    "Applying Multiple Regression\n",
    "\n",
    " - We are looking at the relationship between suicide rate, urban rate and income per person. \n",
    " The basic assumption we are testing is to see if urbanisation is a stressor that could lead to higher suicide rates \n",
    " and if income is a confounding variable\n",
    " \n",
    " The dataset used will be gapminder dataset"
   ]
  },
  {
   "cell_type": "code",
   "execution_count": 15,
   "metadata": {
    "collapsed": true
   },
   "outputs": [],
   "source": [
    "#importing the relevant libraries\n",
    "import numpy as np\n",
    "import pandas as pd\n",
    "import statsmodels.api\n",
    "import statsmodels.formula.api as smf\n",
    "import matplotlib.pyplot as plt\n",
    "%matplotlib inline\n",
    "import seaborn as sns\n",
    "\n",
    "\n",
    "# bug fix for display formats to avoid run time errors\n",
    "pd.set_option('display.float_format', lambda x:'%.2f'%x)"
   ]
  },
  {
   "cell_type": "code",
   "execution_count": 5,
   "metadata": {
    "collapsed": true
   },
   "outputs": [],
   "source": [
    "data = pd.read_csv('~/Desktop/Coursera - data science/regression modelling/gapminder.csv')"
   ]
  },
  {
   "cell_type": "code",
   "execution_count": 6,
   "metadata": {},
   "outputs": [
    {
     "data": {
      "text/html": [
       "<div>\n",
       "<table border=\"1\" class=\"dataframe\">\n",
       "  <thead>\n",
       "    <tr style=\"text-align: right;\">\n",
       "      <th></th>\n",
       "      <th>country</th>\n",
       "      <th>incomeperperson</th>\n",
       "      <th>alcconsumption</th>\n",
       "      <th>armedforcesrate</th>\n",
       "      <th>breastcancerper100th</th>\n",
       "      <th>co2emissions</th>\n",
       "      <th>femaleemployrate</th>\n",
       "      <th>hivrate</th>\n",
       "      <th>internetuserate</th>\n",
       "      <th>lifeexpectancy</th>\n",
       "      <th>oilperperson</th>\n",
       "      <th>polityscore</th>\n",
       "      <th>relectricperperson</th>\n",
       "      <th>suicideper100th</th>\n",
       "      <th>employrate</th>\n",
       "      <th>urbanrate</th>\n",
       "    </tr>\n",
       "  </thead>\n",
       "  <tbody>\n",
       "    <tr>\n",
       "      <th>0</th>\n",
       "      <td>Afghanistan</td>\n",
       "      <td></td>\n",
       "      <td>.03</td>\n",
       "      <td>.5696534</td>\n",
       "      <td>26.8</td>\n",
       "      <td>75944000</td>\n",
       "      <td>25.6000003814697</td>\n",
       "      <td></td>\n",
       "      <td>3.65412162280064</td>\n",
       "      <td>48.673</td>\n",
       "      <td></td>\n",
       "      <td>0</td>\n",
       "      <td></td>\n",
       "      <td>6.68438529968262</td>\n",
       "      <td>55.7000007629394</td>\n",
       "      <td>24.04</td>\n",
       "    </tr>\n",
       "    <tr>\n",
       "      <th>1</th>\n",
       "      <td>Albania</td>\n",
       "      <td>1914.99655094922</td>\n",
       "      <td>7.29</td>\n",
       "      <td>1.0247361</td>\n",
       "      <td>57.4</td>\n",
       "      <td>223747333.333333</td>\n",
       "      <td>42.0999984741211</td>\n",
       "      <td></td>\n",
       "      <td>44.9899469578783</td>\n",
       "      <td>76.918</td>\n",
       "      <td></td>\n",
       "      <td>9</td>\n",
       "      <td>636.341383366604</td>\n",
       "      <td>7.69932985305786</td>\n",
       "      <td>51.4000015258789</td>\n",
       "      <td>46.72</td>\n",
       "    </tr>\n",
       "    <tr>\n",
       "      <th>2</th>\n",
       "      <td>Algeria</td>\n",
       "      <td>2231.99333515006</td>\n",
       "      <td>.69</td>\n",
       "      <td>2.306817</td>\n",
       "      <td>23.5</td>\n",
       "      <td>2932108666.66667</td>\n",
       "      <td>31.7000007629394</td>\n",
       "      <td>.1</td>\n",
       "      <td>12.5000733055148</td>\n",
       "      <td>73.131</td>\n",
       "      <td>.42009452521537</td>\n",
       "      <td>2</td>\n",
       "      <td>590.509814347428</td>\n",
       "      <td>4.8487696647644</td>\n",
       "      <td>50.5</td>\n",
       "      <td>65.22</td>\n",
       "    </tr>\n",
       "    <tr>\n",
       "      <th>3</th>\n",
       "      <td>Andorra</td>\n",
       "      <td>21943.3398976022</td>\n",
       "      <td>10.17</td>\n",
       "      <td></td>\n",
       "      <td></td>\n",
       "      <td></td>\n",
       "      <td></td>\n",
       "      <td></td>\n",
       "      <td>81</td>\n",
       "      <td></td>\n",
       "      <td></td>\n",
       "      <td></td>\n",
       "      <td></td>\n",
       "      <td>5.36217880249023</td>\n",
       "      <td></td>\n",
       "      <td>88.92</td>\n",
       "    </tr>\n",
       "    <tr>\n",
       "      <th>4</th>\n",
       "      <td>Angola</td>\n",
       "      <td>1381.00426770244</td>\n",
       "      <td>5.57</td>\n",
       "      <td>1.4613288</td>\n",
       "      <td>23.1</td>\n",
       "      <td>248358000</td>\n",
       "      <td>69.4000015258789</td>\n",
       "      <td>2</td>\n",
       "      <td>9.99995388324075</td>\n",
       "      <td>51.093</td>\n",
       "      <td></td>\n",
       "      <td>-2</td>\n",
       "      <td>172.999227388199</td>\n",
       "      <td>14.5546770095825</td>\n",
       "      <td>75.6999969482422</td>\n",
       "      <td>56.7</td>\n",
       "    </tr>\n",
       "  </tbody>\n",
       "</table>\n",
       "</div>"
      ],
      "text/plain": [
       "       country   incomeperperson alcconsumption armedforcesrate  \\\n",
       "0  Afghanistan                              .03        .5696534   \n",
       "1      Albania  1914.99655094922           7.29       1.0247361   \n",
       "2      Algeria  2231.99333515006            .69        2.306817   \n",
       "3      Andorra  21943.3398976022          10.17                   \n",
       "4       Angola  1381.00426770244           5.57       1.4613288   \n",
       "\n",
       "  breastcancerper100th      co2emissions  femaleemployrate hivrate  \\\n",
       "0                 26.8          75944000  25.6000003814697           \n",
       "1                 57.4  223747333.333333  42.0999984741211           \n",
       "2                 23.5  2932108666.66667  31.7000007629394      .1   \n",
       "3                                                                    \n",
       "4                 23.1         248358000  69.4000015258789       2   \n",
       "\n",
       "    internetuserate lifeexpectancy     oilperperson polityscore  \\\n",
       "0  3.65412162280064         48.673                            0   \n",
       "1  44.9899469578783         76.918                            9   \n",
       "2  12.5000733055148         73.131  .42009452521537           2   \n",
       "3                81                                               \n",
       "4  9.99995388324075         51.093                           -2   \n",
       "\n",
       "  relectricperperson   suicideper100th        employrate urbanrate  \n",
       "0                     6.68438529968262  55.7000007629394     24.04  \n",
       "1   636.341383366604  7.69932985305786  51.4000015258789     46.72  \n",
       "2   590.509814347428   4.8487696647644              50.5     65.22  \n",
       "3                     5.36217880249023                       88.92  \n",
       "4   172.999227388199  14.5546770095825  75.6999969482422      56.7  "
      ]
     },
     "execution_count": 6,
     "metadata": {},
     "output_type": "execute_result"
    }
   ],
   "source": [
    "data.head()"
   ]
  },
  {
   "cell_type": "code",
   "execution_count": 37,
   "metadata": {
    "collapsed": true
   },
   "outputs": [],
   "source": [
    "#cleaning up the dataset to be numeric\n",
    "data['incomeperperson']=pd.to_numeric(data['incomeperperson'], errors='coerce')\n",
    "data['suicideper100th']=pd.to_numeric(data['suicideper100th'], errors='coerce')\n",
    "data['urbanrate']=pd.to_numeric(data['urbanrate'], errors='coerce')"
   ]
  },
  {
   "cell_type": "markdown",
   "metadata": {},
   "source": [
    "- note: because we are using quantitative variables, we will need to centre these values by dividing them by their respective means"
   ]
  },
  {
   "cell_type": "code",
   "execution_count": 38,
   "metadata": {
    "collapsed": true
   },
   "outputs": [],
   "source": [
    "# center quantitative IVs for regression analysis\n",
    "sub1=data[['incomeperperson','suicideper100th','urbanrate']].copy()\n",
    "\n",
    "sub1['income_c'] = (sub1['incomeperperson'] - sub1['incomeperperson'].mean())\n",
    "#sub1['suicide_c']= (sub1['incomeperperson'] - sub1['incomeperperson'].mean())\n",
    "sub1['urbanrate_c'] = (sub1['urbanrate'] - sub1['urbanrate'].mean())"
   ]
  },
  {
   "cell_type": "markdown",
   "metadata": {},
   "source": [
    "<font size=5><font color=black> Finally we can apply our first regression model: Looking at the relationship between\n",
    "<br> urban rate and suicide rates using a simple linear regression\n",
    "<br>\n",
    "<br>\n",
    "<font size=3>\n",
    "We'll be conducting a stats model function as well as plot the relationship between these two variables using both a linear and polynomial best fit line to show the correlation in these two variables in our sample"
   ]
  },
  {
   "cell_type": "code",
   "execution_count": 39,
   "metadata": {},
   "outputs": [
    {
     "name": "stdout",
     "output_type": "stream",
     "text": [
      "                            OLS Regression Results                            \n",
      "==============================================================================\n",
      "Dep. Variable:        suicideper100th   R-squared:                       0.017\n",
      "Model:                            OLS   Adj. R-squared:                  0.012\n",
      "Method:                 Least Squares   F-statistic:                     3.182\n",
      "Date:                Wed, 25 Oct 2017   Prob (F-statistic):             0.0761\n",
      "Time:                        15:57:48   Log-Likelihood:                -605.22\n",
      "No. Observations:                 186   AIC:                             1214.\n",
      "Df Residuals:                     184   BIC:                             1221.\n",
      "Df Model:                           1                                         \n",
      "Covariance Type:            nonrobust                                         \n",
      "===============================================================================\n",
      "                  coef    std err          t      P>|t|      [0.025      0.975]\n",
      "-------------------------------------------------------------------------------\n",
      "Intercept       9.6673      0.463     20.902      0.000       8.755      10.580\n",
      "urbanrate_c    -0.0357      0.020     -1.784      0.076      -0.075       0.004\n",
      "==============================================================================\n",
      "Omnibus:                       54.573   Durbin-Watson:                   2.113\n",
      "Prob(Omnibus):                  0.000   Jarque-Bera (JB):              108.550\n",
      "Skew:                           1.396   Prob(JB):                     2.68e-24\n",
      "Kurtosis:                       5.492   Cond. No.                         23.1\n",
      "==============================================================================\n",
      "\n",
      "Warnings:\n",
      "[1] Standard Errors assume that the covariance matrix of the errors is correctly specified.\n"
     ]
    }
   ],
   "source": [
    "# linear regression analysis\n",
    "reg1 = smf.ols('suicideper100th ~ urbanrate_c', data=sub1).fit()\n",
    "print (reg1.summary())"
   ]
  },
  {
   "cell_type": "code",
   "execution_count": 40,
   "metadata": {},
   "outputs": [
    {
     "data": {
      "text/plain": [
       "<matplotlib.text.Text at 0x10b883240>"
      ]
     },
     "execution_count": 40,
     "metadata": {},
     "output_type": "execute_result"
    },
    {
     "data": {
      "image/png": "[encoded data removed]",
      "text/plain": [
       "<matplotlib.figure.Figure at 0x10cf77f98>"
      ]
     },
     "metadata": {},
     "output_type": "display_data"
    }
   ],
   "source": [
    "# first order (linear) scatterplot\n",
    "scat1 = sns.regplot(x=\"urbanrate_c\", y=\"suicideper100th\", scatter=True, data=sub1)\n",
    "plt.xlabel('Urban Rate')\n",
    "plt.ylabel('suicideper100th')\n",
    "\n",
    "scat1 = sns.regplot(x=\"urbanrate_c\", y=\"suicideper100th\", order =2, scatter=True, data=sub1)\n",
    "plt.xlabel('Urban Rate')\n",
    "plt.ylabel('suicideper100th')"
   ]
  },
  {
   "cell_type": "markdown",
   "metadata": {},
   "source": [
    "<br>\n",
    "<font size=5><font color=black> Interpreting The First Stats Model:\n",
    "<br> \n",
    "<br>\n",
    "<br>\n",
    "<font size=3>\n",
    "The p-value and p>|t| values in the model are not statistically significant (p>0.05 and p>|t| >0.001)<br>\n",
    "At a R-square value of 0.017, our model shows that urban rate is capturing 1.7% of the variability in suicide rates for these countries in our subset. As such we have to adopt the null hypothesis for our first model\n",
    "<br>\n",
    "<br>\n",
    "The slope of the chart shows a small negative correlation after using our centred predictor/independent variable\n",
    "<br>\n",
    "<br>\n",
    "<font size = 4><font color=blue>But what about income levels? We can apply another model to look at the relationship between income and suicide"
   ]
  },
  {
   "cell_type": "code",
   "execution_count": 41,
   "metadata": {},
   "outputs": [
    {
     "name": "stdout",
     "output_type": "stream",
     "text": [
      "                            OLS Regression Results                            \n",
      "==============================================================================\n",
      "Dep. Variable:        suicideper100th   R-squared:                       0.000\n",
      "Model:                            OLS   Adj. R-squared:                 -0.006\n",
      "Method:                 Least Squares   F-statistic:                  0.007692\n",
      "Date:                Wed, 25 Oct 2017   Prob (F-statistic):              0.930\n",
      "Time:                        15:57:58   Log-Likelihood:                -586.59\n",
      "No. Observations:                 181   AIC:                             1177.\n",
      "Df Residuals:                     179   BIC:                             1184.\n",
      "Df Model:                           1                                         \n",
      "Covariance Type:            nonrobust                                         \n",
      "==============================================================================\n",
      "                 coef    std err          t      P>|t|      [0.025      0.975]\n",
      "------------------------------------------------------------------------------\n",
      "Intercept      9.6766      0.464     20.869      0.000       8.762      10.592\n",
      "income_c    3.237e-06   3.69e-05      0.088      0.930   -6.96e-05    7.61e-05\n",
      "==============================================================================\n",
      "Omnibus:                       53.138   Durbin-Watson:                   2.089\n",
      "Prob(Omnibus):                  0.000   Jarque-Bera (JB):              108.474\n",
      "Skew:                           1.370   Prob(JB):                     2.79e-24\n",
      "Kurtosis:                       5.622   Cond. No.                     1.26e+04\n",
      "==============================================================================\n",
      "\n",
      "Warnings:\n",
      "[1] Standard Errors assume that the covariance matrix of the errors is correctly specified.\n",
      "[2] The condition number is large, 1.26e+04. This might indicate that there are\n",
      "strong multicollinearity or other numerical problems.\n"
     ]
    }
   ],
   "source": [
    "# linear regression analysis\n",
    "reg2 = smf.ols('suicideper100th ~ income_c', data=sub1).fit()\n",
    "print (reg2.summary())"
   ]
  },
  {
   "cell_type": "markdown",
   "metadata": {},
   "source": [
    "<br>\n",
    "<font size=5><font color=black> Interpreting The Second Stats Model:\n",
    "<br> \n",
    "<br>\n",
    "<br>\n",
    "<font size=3>\n",
    "The p-value and p>|t| values in the model are not statistically significant (p>0.05 and p>|t| >0.001) as well <br>\n",
    "At a R-square value of 0, we have to safely adopt the null hypothese that thee is no clear relationship between the\n",
    "levels of income in a country and suicide rates\n",
    "<br>\n",
    "<br>\n",
    "As this assignment covers multiple regression, we can look at multiple predictive variables in our stats model; all \n",
    "the while controlling for each other. \n",
    "<br>\n",
    "<br>\n",
    "We'll be adding other variables: employment rate, co2emissions and alcohol consumption. The rationale with picking these added variables is to see if pollution, vice and economic stressors somehow impact suicide rates in respective societies"
   ]
  },
  {
   "cell_type": "markdown",
   "metadata": {},
   "source": [
    "<font size=5><font color=black> Adding Other Variables for Multiple-Regression"
   ]
  },
  {
   "cell_type": "code",
   "execution_count": 42,
   "metadata": {
    "collapsed": true
   },
   "outputs": [],
   "source": [
    "# data management for added variables\n",
    "#cleaning up the dataset to be numeric\n",
    "data['co2emissions']=pd.to_numeric(data['co2emissions'], errors='coerce')\n",
    "data['alcconsumption']=pd.to_numeric(data['alcconsumption'], errors='coerce')\n",
    "data['employrate']=pd.to_numeric(data['employrate'], errors='coerce')\n",
    "\n",
    "sub2=data[['incomeperperson','suicideper100th','urbanrate','co2emissions','alcconsumption','employrate']].copy()\n"
   ]
  },
  {
   "cell_type": "code",
   "execution_count": 43,
   "metadata": {
    "collapsed": true
   },
   "outputs": [],
   "source": [
    "#\n",
    "sub2['income_c'] = (sub2['incomeperperson'] - sub2['incomeperperson'].mean())\n",
    "sub2['urbanrate_c'] = (sub2['urbanrate'] - sub2['urbanrate'].mean())\n",
    "sub2['co2_c'] = (sub2['co2emissions'] - sub2['co2emissions'].mean())\n",
    "sub2['alchohol_c'] = (sub2['alcconsumption'] - sub2['alcconsumption'].mean())\n",
    "sub2['employment_c'] = (sub2['employrate'] - sub2['employrate'].mean())"
   ]
  },
  {
   "cell_type": "code",
   "execution_count": 46,
   "metadata": {},
   "outputs": [
    {
     "name": "stdout",
     "output_type": "stream",
     "text": [
      "                            OLS Regression Results                            \n",
      "==============================================================================\n",
      "Dep. Variable:        suicideper100th   R-squared:                       0.227\n",
      "Model:                            OLS   Adj. R-squared:                  0.202\n",
      "Method:                 Least Squares   F-statistic:                     9.036\n",
      "Date:                Wed, 25 Oct 2017   Prob (F-statistic):           1.50e-07\n",
      "Time:                        16:00:17   Log-Likelihood:                -501.89\n",
      "No. Observations:                 160   AIC:                             1016.\n",
      "Df Residuals:                     154   BIC:                             1034.\n",
      "Df Model:                           5                                         \n",
      "Covariance Type:            nonrobust                                         \n",
      "================================================================================\n",
      "                   coef    std err          t      P>|t|      [0.025      0.975]\n",
      "--------------------------------------------------------------------------------\n",
      "Intercept        9.8143      0.459     21.380      0.000       8.907      10.721\n",
      "urbanrate_c     -0.0863      0.028     -3.071      0.003      -0.142      -0.031\n",
      "income_c      2.073e-05   5.83e-05      0.356      0.723   -9.44e-05       0.000\n",
      "co2_c         8.684e-12   1.66e-11      0.523      0.601   -2.41e-11    4.15e-11\n",
      "alchohol_c       0.5931      0.095      6.242      0.000       0.405       0.781\n",
      "employment_c    -0.0168      0.048     -0.353      0.725      -0.111       0.077\n",
      "==============================================================================\n",
      "Omnibus:                       37.707   Durbin-Watson:                   2.126\n",
      "Prob(Omnibus):                  0.000   Jarque-Bera (JB):               67.040\n",
      "Skew:                           1.131   Prob(JB):                     2.77e-15\n",
      "Kurtosis:                       5.223   Cond. No.                     2.92e+10\n",
      "==============================================================================\n",
      "\n",
      "Warnings:\n",
      "[1] Standard Errors assume that the covariance matrix of the errors is correctly specified.\n",
      "[2] The condition number is large, 2.92e+10. This might indicate that there are\n",
      "strong multicollinearity or other numerical problems.\n"
     ]
    }
   ],
   "source": [
    "reg3=smf.ols('suicideper100th ~ urbanrate_c +  income_c + co2_c + alchohol_c + employment_c', data=sub2).fit()\n",
    "print(reg3.summary())"
   ]
  },
  {
   "cell_type": "markdown",
   "metadata": {},
   "source": [
    "<br>\n",
    "<font size=5><font color=black> Interpreting The Third Stats Model:\n",
    "<br> \n",
    "<br>\n",
    "<br>\n",
    "<font size=3>\n",
    "Interpreting this stats model appears to be tricky because the p-value<0.05 indicating statistical significance\n",
    "but the only predictors that has a p>|t| value less than 0.05 are urbanrates and alchohol consumption. <u>Note</u>: urban rate had no statistically significant relationship in our previous model, but it does now when using other predictors\n",
    "<br>\n",
    "<br>\n",
    "What could this mean? From our model, we can infer a relationship between suicide and alchohol in socieities where\n",
    "urbanization is a confounder.\n",
    "<br>\n",
    "<br>\n"
   ]
  },
  {
   "cell_type": "markdown",
   "metadata": {},
   "source": [
    "<br>\n",
    "<font size=4><font color=black> Lets have a closer inspection at the relationship between alchohol consumption and suicide:\n",
    "<br> "
   ]
  },
  {
   "cell_type": "code",
   "execution_count": 52,
   "metadata": {},
   "outputs": [
    {
     "name": "stdout",
     "output_type": "stream",
     "text": [
      "                            OLS Regression Results                            \n",
      "==============================================================================\n",
      "Dep. Variable:        suicideper100th   R-squared:                       0.126\n",
      "Model:                            OLS   Adj. R-squared:                  0.121\n",
      "Method:                 Least Squares   F-statistic:                     26.33\n",
      "Date:                Wed, 25 Oct 2017   Prob (F-statistic):           7.32e-07\n",
      "Time:                        16:23:27   Log-Likelihood:                -590.18\n",
      "No. Observations:                 185   AIC:                             1184.\n",
      "Df Residuals:                     183   BIC:                             1191.\n",
      "Df Model:                           1                                         \n",
      "Covariance Type:            nonrobust                                         \n",
      "==============================================================================\n",
      "                 coef    std err          t      P>|t|      [0.025      0.975]\n",
      "------------------------------------------------------------------------------\n",
      "Intercept      9.5966      0.435     22.086      0.000       8.739      10.454\n",
      "alchohol_c     0.4554      0.089      5.131      0.000       0.280       0.631\n",
      "==============================================================================\n",
      "Omnibus:                       60.685   Durbin-Watson:                   2.025\n",
      "Prob(Omnibus):                  0.000   Jarque-Bera (JB):              147.636\n",
      "Skew:                           1.441   Prob(JB):                     8.74e-33\n",
      "Kurtosis:                       6.293   Cond. No.                         4.90\n",
      "==============================================================================\n",
      "\n",
      "Warnings:\n",
      "[1] Standard Errors assume that the covariance matrix of the errors is correctly specified.\n"
     ]
    }
   ],
   "source": [
    "# lets look at alchohol and suicide\n",
    "reg4=smf.ols('suicideper100th ~ alchohol_c', data=sub2).fit()\n",
    "print(reg4.summary())"
   ]
  },
  {
   "cell_type": "code",
   "execution_count": 53,
   "metadata": {},
   "outputs": [
    {
     "data": {
      "text/plain": [
       "<matplotlib.text.Text at 0x10d4e4470>"
      ]
     },
     "execution_count": 53,
     "metadata": {},
     "output_type": "execute_result"
    },
    {
     "data": {
      "image/png": "[encoded data removed]",
      "text/plain": [
       "<matplotlib.figure.Figure at 0x10d4d1d68>"
      ]
     },
     "metadata": {},
     "output_type": "display_data"
    }
   ],
   "source": [
    "# first order (linear) scatterplot\n",
    "scat1 = sns.regplot(x=\"alchohol_c\", y=\"suicideper100th\", scatter=True, data=sub2)\n",
    "plt.xlabel('alchohol')\n",
    "plt.ylabel('suicideper100th')\n",
    "\n",
    "scat1 = sns.regplot(x=\"alchohol_c\", y=\"suicideper100th\", order =2, scatter=True, data=sub2)\n",
    "plt.xlabel('alchohol')\n",
    "plt.ylabel('suicideper100th')"
   ]
  },
  {
   "cell_type": "markdown",
   "metadata": {},
   "source": [
    "<font><font size=3>With p-value<0.05 this model is statistically significant, suggesting a positive correlation in alchohol consumption and suicide.\n",
    "\n",
    "\n",
    "\n",
    "now lets add urbanrates to the mix\n"
   ]
  },
  {
   "cell_type": "code",
   "execution_count": 56,
   "metadata": {},
   "outputs": [
    {
     "name": "stdout",
     "output_type": "stream",
     "text": [
      "                            OLS Regression Results                            \n",
      "==============================================================================\n",
      "Dep. Variable:        suicideper100th   R-squared:                       0.177\n",
      "Model:                            OLS   Adj. R-squared:                  0.168\n",
      "Method:                 Least Squares   F-statistic:                     19.19\n",
      "Date:                Wed, 25 Oct 2017   Prob (F-statistic):           2.84e-08\n",
      "Time:                        16:26:30   Log-Likelihood:                -572.75\n",
      "No. Observations:                 181   AIC:                             1152.\n",
      "Df Residuals:                     178   BIC:                             1161.\n",
      "Df Model:                           2                                         \n",
      "Covariance Type:            nonrobust                                         \n",
      "===============================================================================\n",
      "                  coef    std err          t      P>|t|      [0.025      0.975]\n",
      "-------------------------------------------------------------------------------\n",
      "Intercept       9.5583      0.431     22.188      0.000       8.708      10.408\n",
      "alchohol_c      0.5385      0.091      5.935      0.000       0.359       0.718\n",
      "urbanrate_c    -0.0657      0.020     -3.359      0.001      -0.104      -0.027\n",
      "==============================================================================\n",
      "Omnibus:                       53.336   Durbin-Watson:                   2.065\n",
      "Prob(Omnibus):                  0.000   Jarque-Bera (JB):              117.432\n",
      "Skew:                           1.330   Prob(JB):                     3.16e-26\n",
      "Kurtosis:                       5.915   Cond. No.                         23.1\n",
      "==============================================================================\n",
      "\n",
      "Warnings:\n",
      "[1] Standard Errors assume that the covariance matrix of the errors is correctly specified.\n"
     ]
    }
   ],
   "source": [
    "# adding urban rates\n",
    "reg5=smf.ols('suicideper100th ~ alchohol_c + urbanrate_c', data=sub2).fit()\n",
    "print(reg5.summary())"
   ]
  },
  {
   "cell_type": "code",
   "execution_count": 59,
   "metadata": {},
   "outputs": [
    {
     "data": {
      "text/plain": [
       "<matplotlib.text.Text at 0x10d404668>"
      ]
     },
     "execution_count": 59,
     "metadata": {},
     "output_type": "execute_result"
    },
    {
     "data": {
      "image/png": "[encoded data removed]",
      "text/plain": [
       "<matplotlib.figure.Figure at 0x10d5abf60>"
      ]
     },
     "metadata": {},
     "output_type": "display_data"
    }
   ],
   "source": [
    "# looking at alchohol and urban_rates\n",
    "scat1 = sns.regplot(x=\"urbanrate\", y=\"alcconsumption\", scatter=True, data=sub2)\n",
    "plt.xlabel('urban rate')\n",
    "plt.ylabel('alchohol consumption')"
   ]
  },
  {
   "cell_type": "markdown",
   "metadata": {},
   "source": [
    "<font size=6><u> SUMMARY OF FINDINGS</u>\n",
    "<br>\n",
    "<br>\n",
    "<font size=3>\n",
    "here we can see that the model suggests that alcohol and urban rates have a positive relationship between \n",
    "with the suicide rates of countries in our datasets.(p<0.05 and P>|t| <0.01 for alchohol and urban rates.\n",
    "<br>\n",
    "Because urban rates as a stand-alone independent variable was not statistically significant, we can interpret that alchohol consumption <u>confounds</u> urban rate in its relationship to suicide. But what could this mean? As we see from the coeficient of -0.0657, countries with higher urban rates have lower suicide rates after controlling for alchohol consumption. \n",
    "<br>\n",
    "<br>\n",
    "Does this mean that a more rural country with higher levels of alchohol consumption would experience a higher suicide rate per capita as oppose to a more urbanized country with similar achohol consumption? These are hard questions and I welcome feedback from my reviewers in trying to interpret this relationship.\n",
    "\n",
    "As added background an article (https://www.ncbi.nlm.nih.gov/pmc/articles/PMC3071536/ there does appear to be some evidence of a compounding effect of living in less urban areas and alchohol consumption with suicides:\n",
    "<i>\n",
    "'Bar densities in particular appear related to suicide, meaning, because this is an aggregate-level spatial analysis, that suicides, both attempted and completed, occur at greater rates in rural community areas with greater bar densities'</i>\n",
    "\n",
    " "
   ]
  },
  {
   "cell_type": "code",
   "execution_count": null,
   "metadata": {
    "collapsed": true
   },
   "outputs": [],
   "source": []
  }
 ],
 "metadata": {
  "kernelspec": {
   "display_name": "Python 3",
   "language": "python",
   "name": "python3"
  },
  "language_info": {
   "codemirror_mode": {
    "name": "ipython",
    "version": 3
   },
   "file_extension": ".py",
   "mimetype": "text/x-python",
   "name": "python",
   "nbconvert_exporter": "python",
   "pygments_lexer": "ipython3",
   "version": "3.5.1"
  }
 },
 "nbformat": 4,
 "nbformat_minor": 2
}
